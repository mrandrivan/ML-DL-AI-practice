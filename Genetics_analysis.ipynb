{
  "nbformat": 4,
  "nbformat_minor": 0,
  "metadata": {
    "colab": {
      "provenance": [],
      "authorship_tag": "ABX9TyPfiRO501f/9WvxMpGXjIkD",
      "include_colab_link": true
    },
    "kernelspec": {
      "name": "python3",
      "display_name": "Python 3"
    },
    "language_info": {
      "name": "python"
    }
  },
  "cells": [
    {
      "cell_type": "markdown",
      "metadata": {
        "id": "view-in-github",
        "colab_type": "text"
      },
      "source": [
        "<a href=\"https://colab.research.google.com/github/mrandrivan/ML-DL-AI-practice/blob/main/Genetics_analysis.ipynb\" target=\"_parent\"><img src=\"https://colab.research.google.com/assets/colab-badge.svg\" alt=\"Open In Colab\"/></a>"
      ]
    },
    {
      "cell_type": "code",
      "execution_count": 5,
      "metadata": {
        "colab": {
          "base_uri": "https://localhost:8080/",
          "height": 211
        },
        "id": "mIVIXG_fx85M",
        "outputId": "7a0270a2-2b98-4431-ded9-d81ae6a69778"
      },
      "outputs": [
        {
          "output_type": "error",
          "ename": "TypeError",
          "evalue": "read_csv() got an unexpected keyword argument 'error_bad_lines'",
          "traceback": [
            "\u001b[0;31m---------------------------------------------------------------------------\u001b[0m",
            "\u001b[0;31mTypeError\u001b[0m                                 Traceback (most recent call last)",
            "\u001b[0;32m<ipython-input-5-ede8cfed06af>\u001b[0m in \u001b[0;36m<cell line: 3>\u001b[0;34m()\u001b[0m\n\u001b[1;32m      1\u001b[0m \u001b[0;32mimport\u001b[0m \u001b[0mpandas\u001b[0m \u001b[0;32mas\u001b[0m \u001b[0mpd\u001b[0m\u001b[0;34m\u001b[0m\u001b[0;34m\u001b[0m\u001b[0m\n\u001b[1;32m      2\u001b[0m \u001b[0;34m\u001b[0m\u001b[0m\n\u001b[0;32m----> 3\u001b[0;31m \u001b[0mdata\u001b[0m \u001b[0;34m=\u001b[0m \u001b[0mpd\u001b[0m\u001b[0;34m.\u001b[0m\u001b[0mread_csv\u001b[0m\u001b[0;34m(\u001b[0m\u001b[0;34m'GSE25066_series_matrix.txt'\u001b[0m\u001b[0;34m,\u001b[0m \u001b[0msep\u001b[0m\u001b[0;34m=\u001b[0m\u001b[0;34m'\\t'\u001b[0m\u001b[0;34m,\u001b[0m \u001b[0merror_bad_lines\u001b[0m\u001b[0;34m=\u001b[0m\u001b[0;32mFalse\u001b[0m\u001b[0;34m)\u001b[0m\u001b[0;34m\u001b[0m\u001b[0;34m\u001b[0m\u001b[0m\n\u001b[0m\u001b[1;32m      4\u001b[0m \u001b[0;34m\u001b[0m\u001b[0m\n\u001b[1;32m      5\u001b[0m \u001b[0;31m# View the first few rows\u001b[0m\u001b[0;34m\u001b[0m\u001b[0;34m\u001b[0m\u001b[0m\n",
            "\u001b[0;31mTypeError\u001b[0m: read_csv() got an unexpected keyword argument 'error_bad_lines'"
          ]
        }
      ],
      "source": [
        "import pandas as pd\n",
        "import allel  # or use PyVCF\n",
        "\n",
        "# Load clinical/phenotype data\n",
        "phenotype_data = pd.read_csv('clinical_trial_data.csv')\n",
        "\n",
        "# Load genetic data from a VCF file\n",
        "vcf_data = allel.read_vcf('genetic_data.vcf')\n",
        "\n",
        "# Preview the clinical data\n",
        "print(phenotype_data.head())\n",
        "\n",
        "# Preview the genetic data (this will give you genotype information)\n",
        "genotypes = vcf_data['calldata/GT']\n",
        "print(genotypes.shape)\n"
      ]
    },
    {
      "cell_type": "markdown",
      "source": [
        "**Step 2: Perform Quality Control on Genetic Data\n",
        "Ensure the data is clean before analysis. This can include filtering for minor allele frequency (MAF), removing individuals with low genotyping rates, or filtering based on Hardy-Weinberg Equilibrium (HWE).**\n",
        "\n",
        "Key Concepts:\n",
        "Minor Allele Frequency (MAF): Ensure that SNPs have a certain minimum frequency in the population.\n",
        "Hardy-Weinberg Equilibrium (HWE): Test to ensure the allele frequencies are in equilibrium."
      ],
      "metadata": {
        "id": "Uut5xwoF60R1"
      }
    },
    {
      "cell_type": "code",
      "source": [
        "# Calculate allele counts\n",
        "allele_counts = allel.GenotypeArray(genotypes).count_alleles()\n",
        "\n",
        "# Filter SNPs based on MAF (e.g., MAF > 0.05)\n",
        "maf = allele_counts[:, 1] / allele_counts.sum(axis=1)\n",
        "filtered_snps = maf[maf > 0.05]\n",
        "\n",
        "# HWE test using Scipy for one SNP\n",
        "from scipy.stats import chi2_contingency\n",
        "observed = [allele_counts[0], allele_counts[1]]\n",
        "chi2, p_value, dof, expected = chi2_contingency([observed])\n"
      ],
      "metadata": {
        "id": "iZYs9h7l6Cnu"
      },
      "execution_count": null,
      "outputs": []
    },
    {
      "cell_type": "markdown",
      "source": [],
      "metadata": {
        "id": "EcrrnIHj6PE9"
      }
    },
    {
      "cell_type": "markdown",
      "source": [
        "**Step 3: Perform Association Tests (GWAS-like Analysis)**\n",
        "Now, you want to find out if any SNPs are associated with the treatment response. This is a simple genotype-phenotype association analysis.\n",
        "\n",
        "Statistical Test:\n",
        "Chi-square test or logistic regression to test for an association between genetic variants (SNPs) and the treatment response."
      ],
      "metadata": {
        "id": "Kbc2HW466hbL"
      }
    },
    {
      "cell_type": "code",
      "source": [
        "from sklearn.linear_model import LogisticRegression\n",
        "from scipy.stats import chi2_contingency\n",
        "\n",
        "# Extract SNP data and corresponding patient phenotypes (treatment response)\n",
        "X = genotypes.reshape(-1, genotypes.shape[2])  # SNP data as features\n",
        "y = phenotype_data['treatment_response']  # Binary outcome (e.g., 1 for response, 0 for no response)\n",
        "\n",
        "# Perform Logistic Regression\n",
        "model = LogisticRegression()\n",
        "model.fit(X, y)\n",
        "\n",
        "# For each SNP, you could also perform a Chi-square test\n",
        "for snp in X.T:\n",
        "    contingency_table = pd.crosstab(snp, y)\n",
        "    chi2, p, _, _ = chi2_contingency(contingency_table)\n",
        "    print(f'Chi-square: {chi2}, P-value: {p}')\n"
      ],
      "metadata": {
        "id": "xXdro6-Y6NVU"
      },
      "execution_count": null,
      "outputs": []
    },
    {
      "cell_type": "markdown",
      "source": [
        "**Step 4: Correct for Multiple Testing**\n",
        "\n",
        "Since many SNPs are being tested, it's essential to apply a multiple testing correction (like Bonferroni or FDR) to avoid false positives."
      ],
      "metadata": {
        "id": "cboucDSD6Xvn"
      }
    },
    {
      "cell_type": "code",
      "source": [
        "from statsmodels.stats.multitest import multipletests\n",
        "\n",
        "# Assume p-values from the Chi-square tests are stored in p_values list\n",
        "corrected_p_values = multipletests(p_values, method='fdr_bh')  # FDR correction\n",
        "print(corrected_p_values)\n"
      ],
      "metadata": {
        "id": "3FjWgF4S6pt6"
      },
      "execution_count": null,
      "outputs": []
    },
    {
      "cell_type": "markdown",
      "source": [
        "**Step 6: Pathway or Functional Analysis**\n",
        "\n",
        "After identifying significant SNPs or genes, you can perform pathway enrichment analysis to understand if these genes are involved in specific biological processes."
      ],
      "metadata": {
        "id": "aDZThxvK7Ku7"
      }
    }
  ]
}